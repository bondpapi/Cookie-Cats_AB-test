{
 "cells": [
  {
   "cell_type": "markdown",
   "metadata": {},
   "source": [
    "# COOKIE CATS A/B TEST"
   ]
  },
  {
   "cell_type": "markdown",
   "metadata": {},
   "source": [
    "## Target Metric: \n",
    "\n",
    "### sum_gamerounds with Retention\n",
    "    The total number of game rounds played by a user in the first 14 days after installation.\n",
    "\n",
    "### Why this Metric?\n",
    "\n",
    "1. Directly Measures Engagement:\n",
    "    * A higher number of game rounds indicates that players are more engaged with the game.\n",
    "    * Engagement is a key goal for game developers, as it often leads to increased player retention and revenue.\n",
    "\n",
    "2. Measurable and Comparable:\n",
    "    * sum_gamerounds is a continuous numeric variable, making it ideal for comparisons between the gate_30 and gate_40 groups.\n",
    "    * This metric captures the immediate impact of moving the gate in the game.\n",
    "\n",
    "3. Aligned with Test Goal:\n",
    "    * The stated goal of the test is to determine whether moving the first gate from level 30 to level 40 affects player engagement.\n",
    "    * By analyzing the total rounds played, we can infer whether the gate placement positively or negatively impacts player behavior\n",
    "\n",
    "### How it Measures Progress \n",
    "\n",
    "- Comparison Between Groups:\n",
    "    * By comparing the mean number of game rounds played (sum_gamerounds) between the control (gate_30) and treatment (gate_40) groups, we can assess the impact of the gate change.\n",
    "\n",
    "- Long-Term Impact:\n",
    "    * If the treatment group (gate_40) shows significantly higher sum_gamerounds, it suggests the gate change positively influences player engagement.\n",
    "\n",
    "- Complementary Metrics:\n",
    "    * While sum_gamerounds is the primary metric, we can use retention rates (retention_1 and retention_7) as secondary metrics to validate the results."
   ]
  },
  {
   "cell_type": "code",
   "execution_count": 1,
   "metadata": {},
   "outputs": [],
   "source": [
    "import pandas as pd\n",
    "import numpy as np\n",
    "from statsmodels.stats.proportion import proportions_ztest\n",
    "from scipy.stats import ttest_ind, shapiro, levene, chisquare, ks_2samp\n",
    "import matplotlib.pyplot as plt\n",
    "import seaborn as sns\n",
    "from sklearn.utils import resample"
   ]
  },
  {
   "cell_type": "markdown",
   "metadata": {},
   "source": [
    "## Loading Dataset"
   ]
  },
  {
   "cell_type": "code",
   "execution_count": 2,
   "metadata": {},
   "outputs": [
    {
     "name": "stdout",
     "output_type": "stream",
     "text": [
      "<class 'pandas.core.frame.DataFrame'>\n",
      "RangeIndex: 90189 entries, 0 to 90188\n",
      "Data columns (total 5 columns):\n",
      " #   Column          Non-Null Count  Dtype \n",
      "---  ------          --------------  ----- \n",
      " 0   userid          90189 non-null  int64 \n",
      " 1   version         90189 non-null  object\n",
      " 2   sum_gamerounds  90189 non-null  int64 \n",
      " 3   retention_1     90189 non-null  bool  \n",
      " 4   retention_7     90189 non-null  bool  \n",
      "dtypes: bool(2), int64(2), object(1)\n",
      "memory usage: 2.2+ MB\n",
      "None\n"
     ]
    },
    {
     "data": {
      "text/html": [
       "<div>\n",
       "<style scoped>\n",
       "    .dataframe tbody tr th:only-of-type {\n",
       "        vertical-align: middle;\n",
       "    }\n",
       "\n",
       "    .dataframe tbody tr th {\n",
       "        vertical-align: top;\n",
       "    }\n",
       "\n",
       "    .dataframe thead th {\n",
       "        text-align: right;\n",
       "    }\n",
       "</style>\n",
       "<table border=\"1\" class=\"dataframe\">\n",
       "  <thead>\n",
       "    <tr style=\"text-align: right;\">\n",
       "      <th></th>\n",
       "      <th>userid</th>\n",
       "      <th>version</th>\n",
       "      <th>sum_gamerounds</th>\n",
       "      <th>retention_1</th>\n",
       "      <th>retention_7</th>\n",
       "    </tr>\n",
       "  </thead>\n",
       "  <tbody>\n",
       "    <tr>\n",
       "      <th>0</th>\n",
       "      <td>116</td>\n",
       "      <td>gate_30</td>\n",
       "      <td>3</td>\n",
       "      <td>False</td>\n",
       "      <td>False</td>\n",
       "    </tr>\n",
       "    <tr>\n",
       "      <th>1</th>\n",
       "      <td>337</td>\n",
       "      <td>gate_30</td>\n",
       "      <td>38</td>\n",
       "      <td>True</td>\n",
       "      <td>False</td>\n",
       "    </tr>\n",
       "    <tr>\n",
       "      <th>2</th>\n",
       "      <td>377</td>\n",
       "      <td>gate_40</td>\n",
       "      <td>165</td>\n",
       "      <td>True</td>\n",
       "      <td>False</td>\n",
       "    </tr>\n",
       "    <tr>\n",
       "      <th>3</th>\n",
       "      <td>483</td>\n",
       "      <td>gate_40</td>\n",
       "      <td>1</td>\n",
       "      <td>False</td>\n",
       "      <td>False</td>\n",
       "    </tr>\n",
       "    <tr>\n",
       "      <th>4</th>\n",
       "      <td>488</td>\n",
       "      <td>gate_40</td>\n",
       "      <td>179</td>\n",
       "      <td>True</td>\n",
       "      <td>True</td>\n",
       "    </tr>\n",
       "    <tr>\n",
       "      <th>5</th>\n",
       "      <td>540</td>\n",
       "      <td>gate_40</td>\n",
       "      <td>187</td>\n",
       "      <td>True</td>\n",
       "      <td>True</td>\n",
       "    </tr>\n",
       "    <tr>\n",
       "      <th>6</th>\n",
       "      <td>1066</td>\n",
       "      <td>gate_30</td>\n",
       "      <td>0</td>\n",
       "      <td>False</td>\n",
       "      <td>False</td>\n",
       "    </tr>\n",
       "    <tr>\n",
       "      <th>7</th>\n",
       "      <td>1444</td>\n",
       "      <td>gate_40</td>\n",
       "      <td>2</td>\n",
       "      <td>False</td>\n",
       "      <td>False</td>\n",
       "    </tr>\n",
       "  </tbody>\n",
       "</table>\n",
       "</div>"
      ],
      "text/plain": [
       "   userid  version  sum_gamerounds  retention_1  retention_7\n",
       "0     116  gate_30               3        False        False\n",
       "1     337  gate_30              38         True        False\n",
       "2     377  gate_40             165         True        False\n",
       "3     483  gate_40               1        False        False\n",
       "4     488  gate_40             179         True         True\n",
       "5     540  gate_40             187         True         True\n",
       "6    1066  gate_30               0        False        False\n",
       "7    1444  gate_40               2        False        False"
      ]
     },
     "execution_count": 2,
     "metadata": {},
     "output_type": "execute_result"
    }
   ],
   "source": [
    "file_path = \"cookie_cats.csv\"\n",
    "df = pd.read_csv(file_path)\n",
    "\n",
    "print(df.info())\n",
    "df.head(8)"
   ]
  },
  {
   "cell_type": "markdown",
   "metadata": {},
   "source": [
    "### Check for duplicates"
   ]
  },
  {
   "cell_type": "code",
   "execution_count": 3,
   "metadata": {},
   "outputs": [
    {
     "name": "stdout",
     "output_type": "stream",
     "text": [
      "Total duplicate rows: 0\n",
      "Total duplicate user IDs: 0\n"
     ]
    }
   ],
   "source": [
    "duplicate_rows = df[df.duplicated()]\n",
    "\n",
    "duplicate_users = df[df.duplicated(subset=[\"userid\"], keep=False)]\n",
    "\n",
    "print(f\"Total duplicate rows: {len(duplicate_rows)}\")\n",
    "print(f\"Total duplicate user IDs: {len(duplicate_users)}\")"
   ]
  },
  {
   "cell_type": "markdown",
   "metadata": {},
   "source": [
    "### Check for Outliers using threshold"
   ]
  },
  {
   "cell_type": "code",
   "execution_count": 4,
   "metadata": {},
   "outputs": [
    {
     "name": "stdout",
     "output_type": "stream",
     "text": [
      "Number of extreme players detected: 898\n",
      "Top threshold for game rounds (99th percentile): 493.0\n"
     ]
    }
   ],
   "source": [
    "threshold = df[\"sum_gamerounds\"].quantile(0.99)\n",
    "\n",
    "extreme_players = df[df[\"sum_gamerounds\"] > threshold]\n",
    "\n",
    "print(f\"Number of extreme players detected: {len(extreme_players)}\")\n",
    "print(f\"Top threshold for game rounds (99th percentile): {threshold}\")"
   ]
  },
  {
   "cell_type": "markdown",
   "metadata": {},
   "source": [
    "## Sample size and Variant Proportions"
   ]
  },
  {
   "cell_type": "code",
   "execution_count": 5,
   "metadata": {},
   "outputs": [
    {
     "name": "stdout",
     "output_type": "stream",
     "text": [
      "Sample Size per Variant:\n",
      "version\n",
      "gate_40    45489\n",
      "gate_30    44700\n",
      "Name: count, dtype: int64\n",
      "\n",
      "Variant Proportions (%):\n",
      "version\n",
      "gate_40    50.437415\n",
      "gate_30    49.562585\n",
      "Name: proportion, dtype: float64\n"
     ]
    }
   ],
   "source": [
    "sample_size = df[\"version\"].value_counts()\n",
    "print(\"Sample Size per Variant:\")\n",
    "print(sample_size)\n",
    "\n",
    "\n",
    "variant_proportions = df[\"version\"].value_counts(normalize=True) * 100\n",
    "print(\"\\nVariant Proportions (%):\")\n",
    "print(variant_proportions)"
   ]
  },
  {
   "cell_type": "markdown",
   "metadata": {},
   "source": [
    "The sample sizes are relatively balanced between the two variants. While there is a slight difference, such variations are expected in randomized experiments due to natural randomness during user allocation. \n",
    "\n",
    "The proportions are very close to the ideal 50%-50% split, suggesting that the randomization process worked as intended. This slight deviation (0.88 percentage points) is not statistically concerning."
   ]
  },
  {
   "cell_type": "markdown",
   "metadata": {},
   "source": [
    "## Exploratory Data Analysis"
   ]
  },
  {
   "cell_type": "markdown",
   "metadata": {},
   "source": [
    "### Summary Stats"
   ]
  },
  {
   "cell_type": "code",
   "execution_count": 6,
   "metadata": {},
   "outputs": [
    {
     "name": "stdout",
     "output_type": "stream",
     "text": [
      "\n",
      "Summary Statistics:\n",
      "             userid  sum_gamerounds\n",
      "count  9.018900e+04    90189.000000\n",
      "mean   4.998412e+06       51.872457\n",
      "std    2.883286e+06      195.050858\n",
      "min    1.160000e+02        0.000000\n",
      "25%    2.512230e+06        5.000000\n",
      "50%    4.995815e+06       16.000000\n",
      "75%    7.496452e+06       51.000000\n",
      "max    9.999861e+06    49854.000000\n"
     ]
    }
   ],
   "source": [
    "print(\"\\nSummary Statistics:\")\n",
    "print(df.describe())"
   ]
  },
  {
   "cell_type": "markdown",
   "metadata": {},
   "source": [
    "### Distribution of game rounds"
   ]
  },
  {
   "cell_type": "code",
   "execution_count": 7,
   "metadata": {},
   "outputs": [
    {
     "data": {
      "image/png": "[encoded data removed]",
      "text/plain": [
       "<Figure size 1500x500 with 1 Axes>"
      ]
     },
     "metadata": {},
     "output_type": "display_data"
    }
   ],
   "source": [
    "upper_limit_adjusted = 250\n",
    "\n",
    "plt.figure(figsize=(15, 5))\n",
    "sns.histplot(\n",
    "    df[df[\"sum_gamerounds\"] <= upper_limit_adjusted][\"sum_gamerounds\"],\n",
    "    bins=50,\n",
    "    kde=True,\n",
    "    color=\"orange\",\n",
    ")\n",
    "\n",
    "plt.xlabel(\"Game Rounds Played\")\n",
    "plt.ylabel(\"Number of Players\")\n",
    "plt.title(\n",
    "    f\"Distribution of Game Rounds Played (Capped at {upper_limit_adjusted} rounds)\"\n",
    ")\n",
    "plt.show()"
   ]
  },
  {
   "cell_type": "markdown",
   "metadata": {},
   "source": [
    "**Right-Skewed Distribution:**\n",
    "- Most players played only a few rounds.\n",
    "- A large spike at low game rounds indicates that many players played only a handful of rounds before stopping.\n",
    "\n",
    "**Gradual Decline:**\n",
    "- The number of players decreases as game rounds increase.\n",
    "- This suggests player drop-off over time.\n",
    "\n",
    "The game loses most players early.\n",
    "A small percentage of users play a lot, but they are not the majority.\n",
    "\n",
    "If we are analyzing player retention, focusing on the first few game rounds is crucial."
   ]
  },
  {
   "cell_type": "markdown",
   "metadata": {},
   "source": [
    "### Retention Rates for only players who made it to Gates. "
   ]
  },
  {
   "cell_type": "code",
   "execution_count": 8,
   "metadata": {},
   "outputs": [
    {
     "data": {
      "text/plain": [
       "<Figure size 1500x500 with 0 Axes>"
      ]
     },
     "metadata": {},
     "output_type": "display_data"
    },
    {
     "data": {
      "image/png": "[encoded data removed]",
      "text/plain": [
       "<Figure size 800x600 with 1 Axes>"
      ]
     },
     "metadata": {},
     "output_type": "display_data"
    }
   ],
   "source": [
    "gate_30_threshold = 30\n",
    "gate_40_threshold = 40\n",
    "\n",
    "df_filtered = df[\n",
    "    ((df[\"version\"] == \"gate_30\") & (df[\"sum_gamerounds\"] >= gate_30_threshold))\n",
    "    | ((df[\"version\"] == \"gate_40\") & (df[\"sum_gamerounds\"] >= gate_40_threshold))\n",
    "]\n",
    "\n",
    "retention_rates_filtered = df_filtered.groupby(\"version\")[\n",
    "    [\"retention_1\", \"retention_7\"]\n",
    "].mean()\n",
    "\n",
    "plt.figure(figsize=(15, 5))\n",
    "retention_rates_filtered.plot(kind=\"bar\", figsize=(8, 6), color=[\"blue\", \"orange\"])\n",
    "plt.title(\"Filtered Retention Rates by Group (Only Players Who Reached Gate)\")\n",
    "plt.ylabel(\"Retention Rate\")\n",
    "plt.xticks(rotation=0)\n",
    "plt.legend([\"Day 1 Retention\", \"Day 7 Retention\"])\n",
    "plt.show()"
   ]
  },
  {
   "cell_type": "markdown",
   "metadata": {},
   "source": [
    "**Day 1 Retention:**\n",
    "- Players in both groups show a high first-day retention rate (~80-85%), indicating that many players return the next day.\n",
    "The retention rate is slightly higher for `gate_40`, suggesting that players who reached level 40 might be more engaged.\n",
    "\n",
    "**Day 7 Retention:**\n",
    "- Retention after 7 days is significantly lower (~45-48%), which is expected.\n",
    "Again, `gate_40` has a slightly higher 7-day retention rate compared to `gate_30`, suggesting players who experienced a later gate might be more likely to stay engaged.\n",
    "\n",
    "A higher retention rate for `gate_40` suggests that delaying the gate might improve player engagement.\n"
   ]
  },
  {
   "cell_type": "markdown",
   "metadata": {},
   "source": [
    "### Game Rounds Distribution for Engaged Players"
   ]
  },
  {
   "cell_type": "code",
   "execution_count": 9,
   "metadata": {},
   "outputs": [
    {
     "data": {
      "image/png": "[encoded data removed]",
      "text/plain": [
       "<Figure size 1000x500 with 1 Axes>"
      ]
     },
     "metadata": {},
     "output_type": "display_data"
    }
   ],
   "source": [
    "upper_limit_adjusted = 250  # Capping at 250 rounds\n",
    "\n",
    "plt.figure(figsize=(10, 5))\n",
    "sns.histplot(\n",
    "    df_filtered[df_filtered[\"sum_gamerounds\"] <= upper_limit_adjusted][\n",
    "        \"sum_gamerounds\"\n",
    "    ],\n",
    "    bins=50,\n",
    "    kde=True,\n",
    "    color=\"orange\",\n",
    ")\n",
    "\n",
    "plt.xlabel(\"Game Rounds Played\")\n",
    "plt.ylabel(\"Number of Players\")\n",
    "plt.title(\n",
    "    f\"Distribution of Game Rounds Played (Filtered: Only Players Who Reached Gate, Capped at {upper_limit_adjusted} rounds)\"\n",
    ")\n",
    "plt.show()"
   ]
  },
  {
   "cell_type": "markdown",
   "metadata": {},
   "source": [
    "The peak occurs around 30-50 rounds, which makes sense because these players had to reach the gate to be included.\n",
    "\n",
    "The distribution still follows a right-skewed pattern, meaning most players play a relatively low number of rounds, and only a few engage in very high gameplay.\n",
    "\n",
    "Compared to the original distribution (which included all users), this one is more centered on engaged players, removing early dropouts who might have distorted the scale.\n"
   ]
  },
  {
   "cell_type": "markdown",
   "metadata": {},
   "source": [
    "## SRM Detection"
   ]
  },
  {
   "cell_type": "code",
   "execution_count": 10,
   "metadata": {},
   "outputs": [
    {
     "name": "stdout",
     "output_type": "stream",
     "text": [
      "Chi-Square Test for SRM:\n",
      "Chi2 Statistic = 6.9024, P-value = 0.0086\n",
      "Sample Ratio Mismatch detected. Investigate further before proceeding.\n"
     ]
    }
   ],
   "source": [
    "observed_counts = df[\"version\"].value_counts()\n",
    "\n",
    "expected_counts = [len(df) / 2] * 2  # Assuming 50-50 split\n",
    "\n",
    "chi2_stat, p_val = chisquare(f_obs=observed_counts, f_exp=expected_counts)\n",
    "\n",
    "print(f\"Chi-Square Test for SRM:\")\n",
    "print(f\"Chi2 Statistic = {chi2_stat:.4f}, P-value = {p_val:.4f}\")\n",
    "\n",
    "if p_val < 0.05:\n",
    "    print(\"Sample Ratio Mismatch detected. Investigate further before proceeding.\")\n",
    "else:\n",
    "    print(\"No Sample Ratio Mismatch detected. Proceed with the analysis.\")"
   ]
  },
  {
   "cell_type": "markdown",
   "metadata": {},
   "source": [
    "### Resampling to handle Sample Ratio Mismatch"
   ]
  },
  {
   "cell_type": "code",
   "execution_count": 11,
   "metadata": {},
   "outputs": [
    {
     "name": "stdout",
     "output_type": "stream",
     "text": [
      "Balanced SRM Chi-Square Test: Chi2 Statistic = 0.0000, P-value = 1.0000\n"
     ]
    }
   ],
   "source": [
    "min_sample_size = df[\"version\"].value_counts().min()\n",
    "\n",
    "gate_30_sample = resample(\n",
    "    df[df[\"version\"] == \"gate_30\"], n_samples=min_sample_size, random_state=42\n",
    ")\n",
    "gate_40_sample = resample(\n",
    "    df[df[\"version\"] == \"gate_40\"], n_samples=min_sample_size, random_state=42\n",
    ")\n",
    "\n",
    "df_balanced = pd.concat([gate_30_sample, gate_40_sample])\n",
    "\n",
    "observed_counts_balanced = df_balanced[\"version\"].value_counts()\n",
    "expected_counts_balanced = [min_sample_size, min_sample_size]\n",
    "\n",
    "chi2_stat_balanced, p_val_balanced = chisquare(\n",
    "    f_obs=observed_counts_balanced, f_exp=expected_counts_balanced\n",
    ")\n",
    "\n",
    "print(\n",
    "    f\"Balanced SRM Chi-Square Test: Chi2 Statistic = {chi2_stat_balanced:.4f}, P-value = {p_val_balanced:.4f}\"\n",
    ")"
   ]
  },
  {
   "cell_type": "markdown",
   "metadata": {},
   "source": [
    "## Metric Comparison for A/B Test"
   ]
  },
  {
   "cell_type": "markdown",
   "metadata": {},
   "source": [
    "## Statistical Tests"
   ]
  },
  {
   "cell_type": "markdown",
   "metadata": {},
   "source": [
    "### Variance Equality (Levene's test)"
   ]
  },
  {
   "cell_type": "code",
   "execution_count": 12,
   "metadata": {},
   "outputs": [
    {
     "name": "stdout",
     "output_type": "stream",
     "text": [
      "\n",
      "Levene's Test for Equality of Variances (Engaged Players):\n",
      "Statistic = 0.6970, P-value = 0.4038\n",
      "No significant difference in variances between the two groups.\n"
     ]
    }
   ],
   "source": [
    "df_engaged = df[\n",
    "    ((df[\"version\"] == \"gate_30\") & (df[\"sum_gamerounds\"] >= 30))\n",
    "    | ((df[\"version\"] == \"gate_40\") & (df[\"sum_gamerounds\"] >= 40))\n",
    "]\n",
    "\n",
    "gate_30_engaged = df_engaged[df_engaged[\"version\"] == \"gate_30\"][\"sum_gamerounds\"]\n",
    "gate_40_engaged = df_engaged[df_engaged[\"version\"] == \"gate_40\"][\"sum_gamerounds\"]\n",
    "\n",
    "levene_test_engaged = levene(gate_30_engaged, gate_40_engaged)\n",
    "\n",
    "print(f\"\\nLevene's Test for Equality of Variances (Engaged Players):\")\n",
    "print(\n",
    "    f\"Statistic = {levene_test_engaged.statistic:.4f}, P-value = {levene_test_engaged.pvalue:.4f}\"\n",
    ")\n",
    "\n",
    "if levene_test_engaged.pvalue < 0.05:\n",
    "    print(\"The variances are significantly different between the two groups.\")\n",
    "else:\n",
    "    print(\"No significant difference in variances between the two groups.\")"
   ]
  },
  {
   "cell_type": "markdown",
   "metadata": {},
   "source": [
    "- The assumption of equal variances holds for statistical tests like the t-test.\n",
    "\n",
    "- This confirms that the engagement patterns between the two groups are comparable in terms of variance."
   ]
  },
  {
   "cell_type": "markdown",
   "metadata": {},
   "source": [
    "### Kolmogorov-Smirnov (KS) Test Results (Engaged Players Only)"
   ]
  },
  {
   "cell_type": "code",
   "execution_count": 13,
   "metadata": {},
   "outputs": [
    {
     "name": "stdout",
     "output_type": "stream",
     "text": [
      "\n",
      "Kolmogorov-Smirnov Test for Distribution Comparison (Engaged Players):\n",
      "Statistic = 0.1869, P-value = 0.0000\n",
      "The distributions of gate_30 and gate_40 are significantly different.\n"
     ]
    }
   ],
   "source": [
    "ks_test = ks_2samp(gate_30_engaged, gate_40_engaged)\n",
    "\n",
    "print(f\"\\nKolmogorov-Smirnov Test for Distribution Comparison (Engaged Players):\")\n",
    "print(f\"Statistic = {ks_test.statistic:.4f}, P-value = {ks_test.pvalue:.4f}\")\n",
    "\n",
    "if ks_test.pvalue < 0.05:\n",
    "    print(\"The distributions of gate_30 and gate_40 are significantly different.\")\n",
    "else:\n",
    "    print(\"No significant difference in the distributions of gate_30 and gate_40.\")"
   ]
  },
  {
   "cell_type": "markdown",
   "metadata": {},
   "source": [
    "- Players in `gate_30` and `gate_40` do not follow the same gameplay pattern.\n",
    "\n",
    "- This suggests that moving the gate from level 30 to level 40 altered player behavior.\n",
    "Further investigation is needed to understand how exactly the distributions differ"
   ]
  },
  {
   "cell_type": "markdown",
   "metadata": {},
   "source": [
    "### Engagement: `sum_gamerounds`"
   ]
  },
  {
   "cell_type": "code",
   "execution_count": 14,
   "metadata": {},
   "outputs": [
    {
     "name": "stdout",
     "output_type": "stream",
     "text": [
      "\n",
      "T-Test for sum_gamerounds (Engaged Players Only):\n",
      "T-statistic = -5.1289, P-value = 0.0000\n",
      "There is a significant difference in game rounds played between gate_30 and gate_40 groups.\n"
     ]
    }
   ],
   "source": [
    "t_stat_engaged, p_val_engaged = ttest_ind(\n",
    "    gate_30_engaged, gate_40_engaged, equal_var=False\n",
    ")\n",
    "\n",
    "print(f\"\\nT-Test for sum_gamerounds (Engaged Players Only):\")\n",
    "print(f\"T-statistic = {t_stat_engaged:.4f}, P-value = {p_val_engaged:.4f}\")\n",
    "\n",
    "if p_val_engaged < 0.05:\n",
    "    print(\n",
    "        \"There is a significant difference in game rounds played between gate_30 and gate_40 groups.\"\n",
    "    )\n",
    "else:\n",
    "    print(\n",
    "        \"No significant difference in game rounds played between gate_30 and gate_40 groups.\"\n",
    "    )"
   ]
  },
  {
   "cell_type": "markdown",
   "metadata": {},
   "source": [
    "- Players in `gate_40` (who saw the gate later) played significantly fewer rounds than those in `gate_30`.\n",
    "\n",
    "- This suggests that moving the gate to level 40 may have negatively impacted engagement."
   ]
  },
  {
   "cell_type": "markdown",
   "metadata": {},
   "source": [
    "### Retention: `retention_1` and `retention_7` "
   ]
  },
  {
   "cell_type": "code",
   "execution_count": 15,
   "metadata": {},
   "outputs": [
    {
     "name": "stdout",
     "output_type": "stream",
     "text": [
      "\n",
      "Z-Test for Retention Day 1 (Engaged Players Only): Z-stat = -6.5291, P-value = 0.0000\n",
      "Z-Test for Retention Day 7 (Engaged Players Only): Z-stat = -8.0758, P-value = 0.0000\n",
      "Retention Day 1: Significant difference between gate_30 and gate_40.\n",
      "Retention Day 7: Significant difference between gate_30 and gate_40.\n"
     ]
    }
   ],
   "source": [
    "retention_1_success_engaged = df_engaged.groupby(\"version\")[\"retention_1\"].sum()\n",
    "retention_1_total_engaged = df_engaged.groupby(\"version\")[\"retention_1\"].count()\n",
    "\n",
    "retention_7_success_engaged = df_engaged.groupby(\"version\")[\"retention_7\"].sum()\n",
    "retention_7_total_engaged = df_engaged.groupby(\"version\")[\"retention_7\"].count()\n",
    "\n",
    "z_stat_1_engaged, p_val_1_engaged = proportions_ztest(\n",
    "    count=retention_1_success_engaged, nobs=retention_1_total_engaged\n",
    ")\n",
    "z_stat_7_engaged, p_val_7_engaged = proportions_ztest(\n",
    "    count=retention_7_success_engaged, nobs=retention_7_total_engaged\n",
    ")\n",
    "\n",
    "print(\n",
    "    f\"\\nZ-Test for Retention Day 1 (Engaged Players Only): Z-stat = {z_stat_1_engaged:.4f}, P-value = {p_val_1_engaged:.4f}\"\n",
    ")\n",
    "print(\n",
    "    f\"Z-Test for Retention Day 7 (Engaged Players Only): Z-stat = {z_stat_7_engaged:.4f}, P-value = {p_val_7_engaged:.4f}\"\n",
    ")\n",
    "\n",
    "for day, z_stat, p_val in [\n",
    "    (\"Day 1\", z_stat_1_engaged, p_val_1_engaged),\n",
    "    (\"Day 7\", z_stat_7_engaged, p_val_7_engaged),\n",
    "]:\n",
    "    if p_val < 0.05:\n",
    "        print(f\"Retention {day}: Significant difference between gate_30 and gate_40.\")\n",
    "    else:\n",
    "        print(\n",
    "            f\"Retention {day}: No significant difference between gate_30 and gate_40.\"\n",
    "        )"
   ]
  },
  {
   "cell_type": "markdown",
   "metadata": {},
   "source": [
    "- There is a statistically significant difference in both **Day 1** and **Day 7 retention rates** between `gate_30` and `gate_40`.\n",
    "\n",
    "- The negative Z-statistic suggests that retention in `gate_40` is lower compared to `gate_30`.\n",
    "\n",
    "- This indicates that moving the gate from level 30 to level 40 negatively impacted player retention.\n"
   ]
  },
  {
   "cell_type": "markdown",
   "metadata": {},
   "source": [
    "## Treatment Effect and Confidence Interval"
   ]
  },
  {
   "cell_type": "code",
   "execution_count": 16,
   "metadata": {},
   "outputs": [
    {
     "name": "stdout",
     "output_type": "stream",
     "text": [
      "\n",
      "Treatment Effect (Day 7 Retention - Engaged Players): -0.0463\n",
      "Analytical Confidence Interval: (-0.0575, -0.0351)\n"
     ]
    }
   ],
   "source": [
    "retention_7_gate_30_engaged = df_engaged[df_engaged[\"version\"] == \"gate_30\"][\n",
    "    \"retention_7\"\n",
    "]\n",
    "retention_7_gate_40_engaged = df_engaged[df_engaged[\"version\"] == \"gate_40\"][\n",
    "    \"retention_7\"\n",
    "]\n",
    "\n",
    "treatment_effect_engaged = (\n",
    "    retention_7_gate_30_engaged.mean() - retention_7_gate_40_engaged.mean()\n",
    ")\n",
    "\n",
    "n_30_engaged = len(retention_7_gate_30_engaged)\n",
    "n_40_engaged = len(retention_7_gate_40_engaged)\n",
    "\n",
    "std_30_engaged = retention_7_gate_30_engaged.std()\n",
    "std_40_engaged = retention_7_gate_40_engaged.std()\n",
    "\n",
    "se_diff_engaged = np.sqrt(\n",
    "    (std_30_engaged**2 / n_30_engaged) + (std_40_engaged**2 / n_40_engaged)\n",
    ")\n",
    "\n",
    "ci_low_analytical_engaged = treatment_effect_engaged - 1.96 * se_diff_engaged\n",
    "ci_high_analytical_engaged = treatment_effect_engaged + 1.96 * se_diff_engaged\n",
    "\n",
    "print(\n",
    "    f\"\\nTreatment Effect (Day 7 Retention - Engaged Players): {treatment_effect_engaged:.4f}\"\n",
    ")\n",
    "print(\n",
    "    f\"Analytical Confidence Interval: ({ci_low_analytical_engaged:.4f}, {ci_high_analytical_engaged:.4f})\"\n",
    ")"
   ]
  },
  {
   "cell_type": "markdown",
   "metadata": {},
   "source": [
    "- The negative treatment effect confirms that moving the gate from `gate_30` to `gate_40` had a **negative** impact on **retention**.\n",
    "\n",
    "- Since the confidence interval does not include zero, this suggests the effect is statistically significant.\n",
    "\n",
    "Players in `gate_40` had **lower 7-day retention** compared to `gate_30` players, reinforcing previous results.\n"
   ]
  },
  {
   "cell_type": "markdown",
   "metadata": {},
   "source": [
    "### Bootstrap Confidence Interval "
   ]
  },
  {
   "cell_type": "code",
   "execution_count": 17,
   "metadata": {},
   "outputs": [
    {
     "name": "stdout",
     "output_type": "stream",
     "text": [
      "\n",
      "Bootstrap Confidence Interval (Engaged Players - Day 7 Retention): (-0.0575, -0.0351)\n"
     ]
    }
   ],
   "source": [
    "n_boot = 10000\n",
    "boot_diffs_engaged = []\n",
    "\n",
    "for _ in range(n_boot):\n",
    "    boot_30 = np.random.choice(\n",
    "        retention_7_gate_30_engaged, size=n_30_engaged, replace=True\n",
    "    )\n",
    "    boot_40 = np.random.choice(\n",
    "        retention_7_gate_40_engaged, size=n_40_engaged, replace=True\n",
    "    )\n",
    "    boot_diffs_engaged.append(boot_30.mean() - boot_40.mean())\n",
    "\n",
    "ci_low_bootstrap_engaged, ci_high_bootstrap_engaged = np.percentile(\n",
    "    boot_diffs_engaged, [2.5, 97.5]\n",
    ")\n",
    "\n",
    "print(\n",
    "    f\"\\nBootstrap Confidence Interval (Engaged Players - Day 7 Retention): ({ci_low_bootstrap_engaged:.4f}, {ci_high_bootstrap_engaged:.4f})\"\n",
    ")"
   ]
  },
  {
   "cell_type": "markdown",
   "metadata": {},
   "source": [
    "- The confidence interval is entirely negative, confirming that **retention** in `gate_40` is **significantly lower than `gate_30`**.\n",
    "\n",
    "- This supports previous findings from the Z-test and analytical confidence interval, showing that moving the gate negatively affected retention.\n"
   ]
  },
  {
   "cell_type": "code",
   "execution_count": 18,
   "metadata": {},
   "outputs": [
    {
     "data": {
      "image/png": "[encoded data removed]",
      "text/plain": [
       "<Figure size 1200x500 with 2 Axes>"
      ]
     },
     "metadata": {},
     "output_type": "display_data"
    }
   ],
   "source": [
    "fig, axes = plt.subplots(1, 2, figsize=(12, 5))\n",
    "\n",
    "axes[0].hlines(\n",
    "    1, ci_low_analytical_engaged, ci_high_analytical_engaged, color=\"blue\", lw=5\n",
    ")\n",
    "axes[0].scatter(treatment_effect_engaged, 1, color=\"red\", label=\"Treatment Effect\")\n",
    "axes[0].set_title(\"Analytical Confidence Interval\")\n",
    "axes[0].set_xlabel(\"Retention Difference (gate_30 - gate_40)\")\n",
    "axes[0].set_yticks([])\n",
    "axes[0].legend()\n",
    "axes[0].grid(True)\n",
    "\n",
    "axes[1].hlines(\n",
    "    1, ci_low_bootstrap_engaged, ci_high_bootstrap_engaged, color=\"green\", lw=5\n",
    ")\n",
    "axes[1].scatter(treatment_effect_engaged, 1, color=\"red\", label=\"Treatment Effect\")\n",
    "axes[1].set_title(\"Bootstrap Confidence Interval\")\n",
    "axes[1].set_xlabel(\"Retention Difference (gate_30 - gate_40)\")\n",
    "axes[1].set_yticks([])\n",
    "axes[1].legend()\n",
    "axes[1].grid(True)\n",
    "\n",
    "plt.tight_layout()\n",
    "plt.show()"
   ]
  },
  {
   "cell_type": "markdown",
   "metadata": {},
   "source": [
    "### Comparison of Analytical and Bootstrap Confidence Intervals\n",
    "\n",
    "- Both confidence intervals exclude zero, confirming that the difference in retention is statistically significant.\n",
    "- The bootstrap CI is slightly wider, indicating that it captures more uncertainty than the analytical CI.\n",
    "- Treatment Effect is negative, meaning `gate_40` had worse retention than `gate_30`. \n"
   ]
  },
  {
   "cell_type": "markdown",
   "metadata": {},
   "source": [
    "## Overall Conclusion and Recommendations\n",
    "\n",
    "- The change in gate location (from level 30 to level 40) likely contributed to a decrease in player engagement and lower retention.\n",
    "\n",
    "- The significant differences in game rounds played and retention rates suggest that the change was impactful enough to influence how players interacted with the game.\n",
    "\n",
    "**Recommendations Moving Forward**\n",
    "\n",
    "- **Experiment with New Gate Locations:**\n",
    "    - The current change to level 40 did not yield positive results. It might be useful to test different gate locations or introduce other game features at different points to improve engagement.\n",
    "\n",
    "- **Control for SRM:**\n",
    "    - Ensure equal sample sizes across treatment and control groups to avoid bias. Resampling or weighting can help address the SRM issue detected earlier.\n",
    "\n",
    "- **Conduct Further Engagement Analysis:**\n",
    "    - Although the results suggest a negative impact, it is important to investigate why players dropped off in the Gate 40 group. Conducting qualitative research (such as surveys or user interviews) could provide deeper insights into player behavior.\n",
    "\n",
    "- **A/B Test Iteration:**\n",
    "    - Consider iterating the experiment based on these findings. Perhaps explore more granular changes to the gate or other engagement strategies to see if a more balanced design could improve retention.\n",
    "\n",
    "**Final Thoughts:**\n",
    "- The findings indicate that players are more engaged when the gate is at level 30, and the results suggest that further testing is necessary to refine game mechanics and optimize player retention."
   ]
  }
 ],
 "metadata": {
  "kernelspec": {
   "display_name": ".venv",
   "language": "python",
   "name": "python3"
  },
  "language_info": {
   "codemirror_mode": {
    "name": "ipython",
    "version": 3
   },
   "file_extension": ".py",
   "mimetype": "text/x-python",
   "name": "python",
   "nbconvert_exporter": "python",
   "pygments_lexer": "ipython3",
   "version": "3.11.5"
  }
 },
 "nbformat": 4,
 "nbformat_minor": 2
}
