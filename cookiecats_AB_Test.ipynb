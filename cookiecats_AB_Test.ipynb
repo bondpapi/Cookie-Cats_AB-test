{
 "cells": [
  {
   "cell_type": "markdown",
   "metadata": {},
   "source": [
    "# COOKIE CATS A/B TEST"
   ]
  },
  {
   "cell_type": "markdown",
   "metadata": {},
   "source": [
    "## Target Metric: \n",
    "\n",
    "### sum_gamerounds\n",
    "    The total number of game rounds played by a user in the first 14 days after installation.\n",
    "\n",
    "### Why this Metric?\n",
    "\n",
    "1. Directly Measures Engagement:\n",
    "    * A higher number of game rounds indicates that players are more engaged with the game.\n",
    "    * Engagement is a key goal for game developers, as it often leads to increased player retention and revenue.\n",
    "\n",
    "2. Measurable and Comparable:\n",
    "    * sum_gamerounds is a continuous numeric variable, making it ideal for comparisons between the gate_30 and gate_40 groups.\n",
    "    * This metric captures the immediate impact of moving the gate in the game.\n",
    "\n",
    "3. Aligned with Test Goal:\n",
    "    * The stated goal of the test is to determine whether moving the first gate from level 30 to level 40 affects player engagement.\n",
    "    * By analyzing the total rounds played, we can infer whether the gate placement positively or negatively impacts player behavior\n",
    "\n",
    "### How it Measures Progress \n",
    "\n",
    "- Comparison Between Groups:\n",
    "    * By comparing the mean number of game rounds played (sum_gamerounds) between the control (gate_30) and treatment (gate_40) groups, we can assess the impact of the gate change.\n",
    "\n",
    "- Long-Term Impact:\n",
    "    * If the treatment group (gate_40) shows significantly higher sum_gamerounds, it suggests the gate change positively influences player engagement.\n",
    "\n",
    "- Complementary Metrics:\n",
    "    * While sum_gamerounds is the primary metric, we can use retention rates (retention_1 and retention_7) as secondary metrics to validate the results."
   ]
  },
  {
   "cell_type": "code",
   "execution_count": 17,
   "metadata": {},
   "outputs": [],
   "source": [
    "import pandas as pd\n",
    "import numpy as np\n",
    "from statsmodels.stats.proportion import proportions_ztest\n",
    "from scipy.stats import ttest_ind, shapiro, levene, chisquare\n",
    "import matplotlib.pyplot as plt\n",
    "import seaborn as sns"
   ]
  },
  {
   "cell_type": "markdown",
   "metadata": {},
   "source": [
    "## Loading Dataset"
   ]
  },
  {
   "cell_type": "code",
   "execution_count": 18,
   "metadata": {},
   "outputs": [
    {
     "name": "stdout",
     "output_type": "stream",
     "text": [
      "<class 'pandas.core.frame.DataFrame'>\n",
      "RangeIndex: 90189 entries, 0 to 90188\n",
      "Data columns (total 5 columns):\n",
      " #   Column          Non-Null Count  Dtype \n",
      "---  ------          --------------  ----- \n",
      " 0   userid          90189 non-null  int64 \n",
      " 1   version         90189 non-null  object\n",
      " 2   sum_gamerounds  90189 non-null  int64 \n",
      " 3   retention_1     90189 non-null  bool  \n",
      " 4   retention_7     90189 non-null  bool  \n",
      "dtypes: bool(2), int64(2), object(1)\n",
      "memory usage: 2.2+ MB\n",
      "None\n"
     ]
    },
    {
     "data": {
      "text/html": [
       "<div>\n",
       "<style scoped>\n",
       "    .dataframe tbody tr th:only-of-type {\n",
       "        vertical-align: middle;\n",
       "    }\n",
       "\n",
       "    .dataframe tbody tr th {\n",
       "        vertical-align: top;\n",
       "    }\n",
       "\n",
       "    .dataframe thead th {\n",
       "        text-align: right;\n",
       "    }\n",
       "</style>\n",
       "<table border=\"1\" class=\"dataframe\">\n",
       "  <thead>\n",
       "    <tr style=\"text-align: right;\">\n",
       "      <th></th>\n",
       "      <th>userid</th>\n",
       "      <th>version</th>\n",
       "      <th>sum_gamerounds</th>\n",
       "      <th>retention_1</th>\n",
       "      <th>retention_7</th>\n",
       "    </tr>\n",
       "  </thead>\n",
       "  <tbody>\n",
       "    <tr>\n",
       "      <th>0</th>\n",
       "      <td>116</td>\n",
       "      <td>gate_30</td>\n",
       "      <td>3</td>\n",
       "      <td>False</td>\n",
       "      <td>False</td>\n",
       "    </tr>\n",
       "    <tr>\n",
       "      <th>1</th>\n",
       "      <td>337</td>\n",
       "      <td>gate_30</td>\n",
       "      <td>38</td>\n",
       "      <td>True</td>\n",
       "      <td>False</td>\n",
       "    </tr>\n",
       "    <tr>\n",
       "      <th>2</th>\n",
       "      <td>377</td>\n",
       "      <td>gate_40</td>\n",
       "      <td>165</td>\n",
       "      <td>True</td>\n",
       "      <td>False</td>\n",
       "    </tr>\n",
       "    <tr>\n",
       "      <th>3</th>\n",
       "      <td>483</td>\n",
       "      <td>gate_40</td>\n",
       "      <td>1</td>\n",
       "      <td>False</td>\n",
       "      <td>False</td>\n",
       "    </tr>\n",
       "    <tr>\n",
       "      <th>4</th>\n",
       "      <td>488</td>\n",
       "      <td>gate_40</td>\n",
       "      <td>179</td>\n",
       "      <td>True</td>\n",
       "      <td>True</td>\n",
       "    </tr>\n",
       "    <tr>\n",
       "      <th>5</th>\n",
       "      <td>540</td>\n",
       "      <td>gate_40</td>\n",
       "      <td>187</td>\n",
       "      <td>True</td>\n",
       "      <td>True</td>\n",
       "    </tr>\n",
       "    <tr>\n",
       "      <th>6</th>\n",
       "      <td>1066</td>\n",
       "      <td>gate_30</td>\n",
       "      <td>0</td>\n",
       "      <td>False</td>\n",
       "      <td>False</td>\n",
       "    </tr>\n",
       "    <tr>\n",
       "      <th>7</th>\n",
       "      <td>1444</td>\n",
       "      <td>gate_40</td>\n",
       "      <td>2</td>\n",
       "      <td>False</td>\n",
       "      <td>False</td>\n",
       "    </tr>\n",
       "  </tbody>\n",
       "</table>\n",
       "</div>"
      ],
      "text/plain": [
       "   userid  version  sum_gamerounds  retention_1  retention_7\n",
       "0     116  gate_30               3        False        False\n",
       "1     337  gate_30              38         True        False\n",
       "2     377  gate_40             165         True        False\n",
       "3     483  gate_40               1        False        False\n",
       "4     488  gate_40             179         True         True\n",
       "5     540  gate_40             187         True         True\n",
       "6    1066  gate_30               0        False        False\n",
       "7    1444  gate_40               2        False        False"
      ]
     },
     "execution_count": 18,
     "metadata": {},
     "output_type": "execute_result"
    }
   ],
   "source": [
    "file_path = \"cookie_cats.csv\"\n",
    "data = pd.read_csv(file_path)\n",
    "\n",
    "print(data.info())\n",
    "data.head(8)"
   ]
  },
  {
   "cell_type": "markdown",
   "metadata": {},
   "source": [
    "## Sample size and Variant Proportions"
   ]
  },
  {
   "cell_type": "code",
   "execution_count": 19,
   "metadata": {},
   "outputs": [
    {
     "name": "stdout",
     "output_type": "stream",
     "text": [
      "Sample Size per Variant:\n",
      "version\n",
      "gate_40    45489\n",
      "gate_30    44700\n",
      "Name: count, dtype: int64\n",
      "\n",
      "Variant Proportions (%):\n",
      "version\n",
      "gate_40    50.437415\n",
      "gate_30    49.562585\n",
      "Name: proportion, dtype: float64\n"
     ]
    }
   ],
   "source": [
    "sample_size = data[\"version\"].value_counts()\n",
    "print(\"Sample Size per Variant:\")\n",
    "print(sample_size)\n",
    "\n",
    "\n",
    "variant_proportions = data[\"version\"].value_counts(normalize=True) * 100\n",
    "print(\"\\nVariant Proportions (%):\")\n",
    "print(variant_proportions)"
   ]
  },
  {
   "cell_type": "markdown",
   "metadata": {},
   "source": [
    "The sample sizes are relatively balanced between the two variants. While there is a slight difference, such variations are expected in randomized experiments due to natural randomness during user allocation. \n",
    "\n",
    "The proportions are very close to the ideal 50%-50% split, suggesting that the randomization process worked as intended. This slight deviation (0.88 percentage points) is not statistically concerning."
   ]
  },
  {
   "cell_type": "markdown",
   "metadata": {},
   "source": [
    "## Exploratory Data Analysis"
   ]
  },
  {
   "cell_type": "markdown",
   "metadata": {},
   "source": [
    "### Summary Stats"
   ]
  },
  {
   "cell_type": "code",
   "execution_count": 20,
   "metadata": {},
   "outputs": [
    {
     "name": "stdout",
     "output_type": "stream",
     "text": [
      "\n",
      "Summary Statistics:\n",
      "             userid  sum_gamerounds\n",
      "count  9.018900e+04    90189.000000\n",
      "mean   4.998412e+06       51.872457\n",
      "std    2.883286e+06      195.050858\n",
      "min    1.160000e+02        0.000000\n",
      "25%    2.512230e+06        5.000000\n",
      "50%    4.995815e+06       16.000000\n",
      "75%    7.496452e+06       51.000000\n",
      "max    9.999861e+06    49854.000000\n"
     ]
    }
   ],
   "source": [
    "print(\"\\nSummary Statistics:\")\n",
    "print(data.describe())"
   ]
  },
  {
   "cell_type": "markdown",
   "metadata": {},
   "source": [
    "### Distribution of game rounds"
   ]
  },
  {
   "cell_type": "code",
   "execution_count": 21,
   "metadata": {},
   "outputs": [
    {
     "data": {
      "image/png": "[encoded data removed]",
      "text/plain": [
       "<Figure size 640x480 with 1 Axes>"
      ]
     },
     "metadata": {},
     "output_type": "display_data"
    }
   ],
   "source": [
    "sns.histplot(data[\"sum_gamerounds\"], bins=30, kde=True)\n",
    "plt.title(\"Distribution of Total Game Rounds Played\")\n",
    "plt.xlabel(\"Game Rounds\")\n",
    "plt.ylabel(\"Frequency\")\n",
    "plt.show()"
   ]
  },
  {
   "cell_type": "markdown",
   "metadata": {},
   "source": [
    "### Retention Rates"
   ]
  },
  {
   "cell_type": "code",
   "execution_count": 22,
   "metadata": {},
   "outputs": [
    {
     "data": {
      "image/png": "[encoded data removed]",
      "text/plain": [
       "<Figure size 800x600 with 1 Axes>"
      ]
     },
     "metadata": {},
     "output_type": "display_data"
    }
   ],
   "source": [
    "retention_rates = data.groupby(\"version\")[[\"retention_1\", \"retention_7\"]].mean()\n",
    "retention_rates.plot(kind=\"bar\", figsize=(8, 6))\n",
    "plt.title(\"Retention Rates by Group\")\n",
    "plt.ylabel(\"Retention Rate\")\n",
    "plt.xticks(rotation=0)\n",
    "plt.legend([\"Day 1 Retention\", \"Day 7 Retention\"])\n",
    "plt.show()"
   ]
  },
  {
   "cell_type": "markdown",
   "metadata": {},
   "source": [
    "## SRM Detection"
   ]
  },
  {
   "cell_type": "code",
   "execution_count": 23,
   "metadata": {},
   "outputs": [
    {
     "name": "stdout",
     "output_type": "stream",
     "text": [
      "Chi-Square Test for SRM:\n",
      "Chi2 Statistic = 6.9024, P-value = 0.0086\n",
      "Sample Ratio Mismatch detected. Investigate further before proceeding.\n"
     ]
    }
   ],
   "source": [
    "observed_counts = data[\"version\"].value_counts()\n",
    "\n",
    "expected_counts = [len(data) / 2] * 2  # Assuming 50-50 split\n",
    "\n",
    "chi2_stat, p_val = chisquare(f_obs=observed_counts, f_exp=expected_counts)\n",
    "\n",
    "print(f\"Chi-Square Test for SRM:\")\n",
    "print(f\"Chi2 Statistic = {chi2_stat:.4f}, P-value = {p_val:.4f}\")\n",
    "\n",
    "if p_val < 0.05:\n",
    "    print(\"Sample Ratio Mismatch detected. Investigate further before proceeding.\")\n",
    "else:\n",
    "    print(\"No Sample Ratio Mismatch detected. Proceed with the analysis.\")"
   ]
  },
  {
   "cell_type": "markdown",
   "metadata": {},
   "source": [
    "### Assessing the impact of Sample Ratio Mismatch"
   ]
  },
  {
   "cell_type": "markdown",
   "metadata": {},
   "source": [
    "#### Comparing Key Metrics Across Groups"
   ]
  },
  {
   "cell_type": "code",
   "execution_count": 24,
   "metadata": {},
   "outputs": [
    {
     "name": "stdout",
     "output_type": "stream",
     "text": [
      "Proportion of Players in Each Engagement Segment:\n",
      "engagement_segment      high       low  moderate\n",
      "version                                         \n",
      "gate_30             0.001186  0.862013  0.136801\n",
      "gate_40             0.001385  0.860450  0.138165\n"
     ]
    },
    {
     "data": {
      "image/png": "[encoded data removed]",
      "text/plain": [
       "<Figure size 1500x600 with 1 Axes>"
      ]
     },
     "metadata": {},
     "output_type": "display_data"
    }
   ],
   "source": [
    "\"\"\"Create engagement segments\"\"\"\n",
    "\n",
    "\n",
    "def engagement_segment(rounds):\n",
    "    if rounds < 100:\n",
    "        return \"low\"\n",
    "    elif rounds <= 1000:\n",
    "        return \"moderate\"\n",
    "    else:\n",
    "        return \"high\"\n",
    "\n",
    "\n",
    "data[\"engagement_segment\"] = data[\"sum_gamerounds\"].apply(engagement_segment)\n",
    "\n",
    "segment_proportions = data.groupby([\"version\", \"engagement_segment\"]).size().unstack()\n",
    "segment_proportions = segment_proportions.div(segment_proportions.sum(axis=1), axis=0)\n",
    "\n",
    "print(\"Proportion of Players in Each Engagement Segment:\")\n",
    "print(segment_proportions)\n",
    "\n",
    "segment_proportions.plot(\n",
    "    kind=\"bar\",\n",
    "    figsize=(15, 6),\n",
    "    title=\"Engagement Segments by Version\",\n",
    "    ylabel=\"Proportion\",\n",
    ")\n",
    "plt.xticks(rotation=0)\n",
    "plt.legend(title=\"Engagement Segment\")\n",
    "plt.show()"
   ]
  },
  {
   "cell_type": "markdown",
   "metadata": {},
   "source": [
    "**Proportion or Players in Each Engagement Segment** \n",
    "\n",
    "    Low Engagement (fewer than 100 rounds)\n",
    "        - gate_30: 86.20%\n",
    "        - gate_40: 86.05%\n",
    "        - The majority of players fall into this category for both groups, and the proportions are nearly identical. This indicates no significant impact of SRM in this segment.\n",
    "    \n",
    "    Moderate Engagement (100 - 1000 rounds)\n",
    "        - Similar proportions are observed, suggesting SRM has minimal impact on this group as well.\n",
    "    \n",
    "    High Engagement ( more than 1000 rounds)\n",
    "        - gate_30: 0.12%\n",
    "        - gate_40: 0.14%\n",
    "        - While both groups have a tiny proportion of highly engaged players, gate_40 has a slightly higher percentage in this segment.\n",
    "\n",
    "**Conclusion: The proportions across engagement segments are consistent between gate_30 and gate_40. SRM is unlikely to cause bias in terms of the distribution of engagement levels.**"
   ]
  },
  {
   "cell_type": "markdown",
   "metadata": {},
   "source": [
    "## Metric Comparison for A/B Test"
   ]
  },
  {
   "cell_type": "markdown",
   "metadata": {},
   "source": [
    "## Statistical Tests"
   ]
  },
  {
   "cell_type": "markdown",
   "metadata": {},
   "source": [
    "### Variance Equality (Levene's test)"
   ]
  },
  {
   "cell_type": "code",
   "execution_count": 25,
   "metadata": {},
   "outputs": [
    {
     "name": "stdout",
     "output_type": "stream",
     "text": [
      "\n",
      "Levene's Test for Equality of Variances:\n",
      "Statistic = 0.5292, P-value = 0.4669\n"
     ]
    }
   ],
   "source": [
    "gate_30 = data[data[\"version\"] == \"gate_30\"]\n",
    "gate_40 = data[data[\"version\"] == \"gate_40\"]\n",
    "\n",
    "levene_test = levene(gate_30[\"sum_gamerounds\"], gate_40[\"sum_gamerounds\"])\n",
    "print(\n",
    "    f\"\\nLevene's Test for Equality of Variances:\\nStatistic = {levene_test.statistic:.4f}, P-value = {levene_test.pvalue:.4f}\"\n",
    ")"
   ]
  },
  {
   "cell_type": "markdown",
   "metadata": {},
   "source": [
    "- The p-value is greater than 0.05, this means there is no evidence to suggest that the variances are different between the two groups."
   ]
  },
  {
   "cell_type": "markdown",
   "metadata": {},
   "source": [
    "### Normality - Shapiro-Wilk test\n"
   ]
  },
  {
   "cell_type": "code",
   "execution_count": 26,
   "metadata": {},
   "outputs": [
    {
     "name": "stdout",
     "output_type": "stream",
     "text": [
      "\n",
      "Shapiro-Wilk Test for Normality:\n",
      "Gate 30: Statistic = 0.0881, P-value = 0.0000\n",
      "Gate 40: Statistic = 0.4826, P-value = 0.0000\n"
     ]
    },
    {
     "name": "stderr",
     "output_type": "stream",
     "text": [
      "/Users/alinabond/Python Work/bondpapi/bondpapi/125284654/.venv/lib/python3.11/site-packages/scipy/stats/_axis_nan_policy.py:573: UserWarning: scipy.stats.shapiro: For N > 5000, computed p-value may not be accurate. Current N is 44700.\n",
      "  res = hypotest_fun_out(*samples, **kwds)\n",
      "/Users/alinabond/Python Work/bondpapi/bondpapi/125284654/.venv/lib/python3.11/site-packages/scipy/stats/_axis_nan_policy.py:573: UserWarning: scipy.stats.shapiro: For N > 5000, computed p-value may not be accurate. Current N is 45489.\n",
      "  res = hypotest_fun_out(*samples, **kwds)\n"
     ]
    }
   ],
   "source": [
    "\n",
    "shapiro_30 = shapiro(gate_30['sum_gamerounds'])\n",
    "shapiro_40 = shapiro(gate_40['sum_gamerounds'])\n",
    "print(f\"\\nShapiro-Wilk Test for Normality:\\nGate 30: Statistic = {shapiro_30.statistic:.4f}, P-value = {shapiro_30.pvalue:.4f}\\nGate 40: Statistic = {shapiro_40.statistic:.4f}, P-value = {shapiro_40.pvalue:.4f}\")\n"
   ]
  },
  {
   "cell_type": "markdown",
   "metadata": {},
   "source": [
    "- Since both p-values are 0.0000 (less than 0.05), we reject the null hypothesis, which means the data is not normally distributed for both gate_30 and gate_40.\n"
   ]
  },
  {
   "cell_type": "markdown",
   "metadata": {},
   "source": [
    "### Engagement: `sum_gamerounds`"
   ]
  },
  {
   "cell_type": "code",
   "execution_count": 27,
   "metadata": {},
   "outputs": [
    {
     "name": "stdout",
     "output_type": "stream",
     "text": [
      "T-Test for sum_gamerounds: T-stat = 0.8854, P-value = 0.3759\n"
     ]
    }
   ],
   "source": [
    "gate_30 = data[data[\"version\"] == \"gate_30\"][\"sum_gamerounds\"]\n",
    "gate_40 = data[data[\"version\"] == \"gate_40\"][\"sum_gamerounds\"]\n",
    "\n",
    "t_stat, p_val = ttest_ind(gate_30, gate_40, equal_var=False)\n",
    "print(f\"T-Test for sum_gamerounds: T-stat = {t_stat:.4f}, P-value = {p_val:.4f}\")"
   ]
  },
  {
   "cell_type": "markdown",
   "metadata": {},
   "source": [
    "- The p-value indicates no statistically significant difference in the mean number of game rounds played between the gate_30 and gate_40 groups.\n",
    "\n",
    "- The gate placement (at level 30 vs. level 40) does not appear to have a meaningful effect on overall player engagement as measured by sum_gamerounds."
   ]
  },
  {
   "cell_type": "markdown",
   "metadata": {},
   "source": [
    "### Retention: `retention_1` and `retention_7` "
   ]
  },
  {
   "cell_type": "code",
   "execution_count": 28,
   "metadata": {},
   "outputs": [
    {
     "name": "stdout",
     "output_type": "stream",
     "text": [
      "Z-Test for Retention Day 1: Z-stat = 1.7841, P-value = 0.0744\n",
      "Z-Test for Retention Day 7: Z-stat = 3.1644, P-value = 0.0016\n"
     ]
    }
   ],
   "source": [
    "retention_1_success = data.groupby(\"version\")[\"retention_1\"].sum()\n",
    "retention_1_total = data.groupby(\"version\")[\"retention_1\"].count()\n",
    "z_stat_1, p_val_1 = proportions_ztest(count=retention_1_success, nobs=retention_1_total)\n",
    "print(f\"Z-Test for Retention Day 1: Z-stat = {z_stat_1:.4f}, P-value = {p_val_1:.4f}\")\n",
    "\n",
    "\n",
    "retention_7_success = data.groupby(\"version\")[\"retention_7\"].sum()\n",
    "retention_7_total = data.groupby(\"version\")[\"retention_7\"].count()\n",
    "z_stat_7, p_val_7 = proportions_ztest(count=retention_7_success, nobs=retention_7_total)\n",
    "print(f\"Z-Test for Retention Day 7: Z-stat = {z_stat_7:.4f}, P-value = {p_val_7:.4f}\")"
   ]
  },
  {
   "cell_type": "markdown",
   "metadata": {},
   "source": [
    "**Retention Day 1**\n",
    "\n",
    "- Since the p-value is greater than 0.05, we fail to reject the null hypothesis.\n",
    "\n",
    "- **Conclusion**: There is no statistically significant difference in Day 1 retention between gate_30 and gate_40.\n",
    "\n",
    "**Retention Day 7**\n",
    "\n",
    "- Since the p-value is less than 0.05, we reject the null hypothesis.\n",
    "\n",
    "- **Conclusion**: There is a statistically significant difference in Day 7 retention between gate_30 and gate_40.\n"
   ]
  },
  {
   "cell_type": "markdown",
   "metadata": {},
   "source": [
    "## Treatment Effect and Confidence Interval"
   ]
  },
  {
   "cell_type": "code",
   "execution_count": 29,
   "metadata": {},
   "outputs": [
    {
     "name": "stdout",
     "output_type": "stream",
     "text": [
      "Treatment Effect (Day 7 Retention): 0.0082\n",
      "Analytical Confidence Interval: (0.0031, 0.0133)\n"
     ]
    }
   ],
   "source": [
    "retention_7_gate_30 = data[data[\"version\"] == \"gate_30\"][\"retention_7\"]\n",
    "retention_7_gate_40 = data[data[\"version\"] == \"gate_40\"][\"retention_7\"]\n",
    "\n",
    "treatment_effect = retention_7_gate_30.mean() - retention_7_gate_40.mean()\n",
    "\n",
    "n_30 = len(retention_7_gate_30)\n",
    "n_40 = len(retention_7_gate_40)\n",
    "std_30 = retention_7_gate_30.std()\n",
    "std_40 = retention_7_gate_40.std()\n",
    "\n",
    "se_diff = np.sqrt((std_30**2 / n_30) + (std_40**2 / n_40))\n",
    "ci_low_analytical = treatment_effect - 1.96 * se_diff\n",
    "ci_high_analytical = treatment_effect + 1.96 * se_diff\n",
    "\n",
    "print(f\"Treatment Effect (Day 7 Retention): {treatment_effect:.4f}\")\n",
    "print(\n",
    "    f\"Analytical Confidence Interval: ({ci_low_analytical:.4f}, {ci_high_analytical:.4f})\"\n",
    ")"
   ]
  },
  {
   "cell_type": "markdown",
   "metadata": {},
   "source": [
    "- Players in the **treatment group (`gate_40`)** had a **0.82% higher retention rate on Day 7** compared to the control group (`gate_30`). This is a small but positive effect, suggesting that moving the gate to level 40 slightly improves long-term player retention.\n",
    "\n",
    "- Since the confidence interval is entirely positive (does not include 0), the effect is statistically significant. This reinforces that the treatment group (`gate_40`) performs better than the control group (`gate_30`).\n",
    "\n",
    "**Since Normality is violated,we will use bootstrapping instead of relying solely on analytical confidence interval**"
   ]
  },
  {
   "cell_type": "markdown",
   "metadata": {},
   "source": [
    "### Bootstrap Confidence Interval "
   ]
  },
  {
   "cell_type": "code",
   "execution_count": 30,
   "metadata": {},
   "outputs": [
    {
     "name": "stdout",
     "output_type": "stream",
     "text": [
      "Bootstrap Confidence Interval: (0.0031, 0.0132)\n"
     ]
    }
   ],
   "source": [
    "n_boot = 10000\n",
    "boot_diffs = []\n",
    "\n",
    "for _ in range(n_boot):\n",
    "    boot_30 = np.random.choice(retention_7_gate_30, size=n_30, replace=True)\n",
    "    boot_40 = np.random.choice(retention_7_gate_40, size=n_40, replace=True)\n",
    "    boot_diffs.append(boot_30.mean() - boot_40.mean())\n",
    "\n",
    "ci_low_bootstrap, ci_high_bootstrap = np.percentile(boot_diffs, [2.5, 97.5])\n",
    "\n",
    "print(\n",
    "    f\"Bootstrap Confidence Interval: ({ci_low_bootstrap:.4f}, {ci_high_bootstrap:.4f})\"\n",
    ")"
   ]
  },
  {
   "cell_type": "markdown",
   "metadata": {},
   "source": [
    "- The treatment effect and both confidence intervals suggest that moving the gate to level 40 **slightly improves Day 7 retention.**\n",
    "\n",
    "- While the improvement (0.82%) is relatively small, it could be meaningful depending on the game's business objectives (e.g., monetization, player lifetime value)."
   ]
  },
  {
   "cell_type": "code",
   "execution_count": 31,
   "metadata": {},
   "outputs": [
    {
     "data": {
      "image/png": "[encoded data removed]",
      "text/plain": [
       "<Figure size 1500x500 with 2 Axes>"
      ]
     },
     "metadata": {},
     "output_type": "display_data"
    }
   ],
   "source": [
    "fig, axes = plt.subplots(1, 2, figsize=(15, 5))\n",
    "\n",
    "axes[0].errorbar(\n",
    "    x=[\"Analytical CI\"],\n",
    "    y=[treatment_effect],\n",
    "    yerr=[\n",
    "        [treatment_effect - ci_low_analytical],\n",
    "        [ci_high_analytical - treatment_effect],\n",
    "    ],\n",
    "    fmt=\"o\",\n",
    "    color=\"blue\",\n",
    ")\n",
    "axes[0].axhline(0, color=\"red\", linestyle=\"--\", label=\"No Effect\")\n",
    "axes[0].set_title(\"Analytical Confidence Interval\")\n",
    "axes[0].set_ylabel(\"Treatment Effect\")\n",
    "axes[0].legend()\n",
    "\n",
    "\n",
    "axes[1].errorbar(\n",
    "    x=[\"Bootstrap CI\"],\n",
    "    y=[treatment_effect],\n",
    "    yerr=[\n",
    "        [treatment_effect - ci_low_bootstrap],\n",
    "        [ci_high_bootstrap - treatment_effect],\n",
    "    ],\n",
    "    fmt=\"o\",\n",
    "    color=\"orange\",\n",
    ")\n",
    "axes[1].axhline(0, color=\"red\", linestyle=\"--\", label=\"No Effect\")\n",
    "axes[1].set_title(\"Bootstrap Confidence Interval\")\n",
    "axes[1].set_ylabel(\"Treatment Effect\")\n",
    "axes[1].legend()\n",
    "\n",
    "plt.tight_layout()\n",
    "plt.show()"
   ]
  },
  {
   "cell_type": "markdown",
   "metadata": {},
   "source": [
    "- Both confidence intervals are above zero, indicating that the treatment effect is statistically significant.\n",
    "\n",
    "- The analytical CI and bootstrap CI are very close, reinforcing the robustness of the estimate"
   ]
  },
  {
   "cell_type": "markdown",
   "metadata": {},
   "source": [
    "## Overall Recommendations "
   ]
  },
  {
   "cell_type": "markdown",
   "metadata": {},
   "source": [
    "1. **Retention Impact:**\n",
    "    - If retention is a key performance indicator, this result supports moving the gate to level 40 to slightly improve long-term retention.\n",
    "\n",
    "2. **Decision-Making:**\n",
    "    - The statistical significance indicates confidence in the result.\n",
    "\n",
    "    - However, the small magnitude of the treatment effect (0.82%) should be weighed against other factors, such as the impact on player engagement or player satisfaction.\n",
    "\n",
    "3. **Further Consideration:**\n",
    "    - Explore whether this slight improvement in Day 7 retention translates into higher revenue or lifetime value for players.\n",
    "\n",
    "    - If engagement (game rounds played) or player experience are also key goals, the potential trade-offs of moving the gate to level 40 should be carefully assessed."
   ]
  }
 ],
 "metadata": {
  "kernelspec": {
   "display_name": ".venv",
   "language": "python",
   "name": "python3"
  },
  "language_info": {
   "codemirror_mode": {
    "name": "ipython",
    "version": 3
   },
   "file_extension": ".py",
   "mimetype": "text/x-python",
   "name": "python",
   "nbconvert_exporter": "python",
   "pygments_lexer": "ipython3",
   "version": "3.11.5"
  }
 },
 "nbformat": 4,
 "nbformat_minor": 2
}
